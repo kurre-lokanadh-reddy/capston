{
 "cells": [
  {
   "cell_type": "markdown",
   "metadata": {},
   "source": [
    "# Predicting the best location for a business startups in a particular neighborhood"
   ]
  },
  {
   "cell_type": "markdown",
   "metadata": {},
   "source": [
    "####  by: K.Lokanadh reddy"
   ]
  },
  {
   "cell_type": "markdown",
   "metadata": {},
   "source": [
    "##       Introduction/Business Problem "
   ]
  },
  {
   "cell_type": "markdown",
   "metadata": {},
   "source": [
    "### 1. Introduction"
   ]
  },
  {
   "cell_type": "markdown",
   "metadata": {},
   "source": [
    "  Toronto is the provincial capital of Ontario and the most populous city in Canada, with a population of 2,731,571 in 2016. Current to 2016, the Toronto census metropolitan area (CMA), of which the majority is within the Greater Toronto \n",
    "Area (GTA), held a population of 5,928,040, making it Canada's most populous CMA. Toronto is the fastest growing city \n",
    "in North America,[13] and is the anchor of an urban agglomeration, known as the Golden Horseshoe in Southern Ontario, \n",
    "located on the northwestern shore of Lake Ontario. Toronto is an international centre of business, finance, arts, and \n",
    "culture, and is recognized as one of the most multicultural and cosmopolitan cities in the world."
   ]
  },
  {
   "cell_type": "markdown",
   "metadata": {},
   "source": [
    "As you can see from the figures, toronto is a city with a high population and population density. Being such a crowded city \n",
    "leads the owners of shops and social sharing places in the city where the population is dense. When we think of it by the investor, we expect from them to prefer the districts where there is a lower real estate cost and the type of business they want to install is less intense"
   ]
  },
  {
   "cell_type": "markdown",
   "metadata": {},
   "source": [
    "### 2. Business Problem"
   ]
  },
  {
   "cell_type": "markdown",
   "metadata": {},
   "source": [
    "   In a region like this where the population is higher there is better chance for business .But one should be abel\n",
    "   to select the best place to start the business.Instead of selecting with an basic essumption it whould be nice to use      the data relating to the near by venues in particular neighborhood (needed by the coustmer) and providing him the best      areas to open his/her business."
   ]
  },
  {
   "cell_type": "markdown",
   "metadata": {},
   "source": [
    " SOLUTION:the neighborhood is selected as per the requirment of the customer and its near by venues are listed with in a range of 2 km and the venues are clustered which gives the denseness of venues of its kind and best place is provided according to analysis."
   ]
  },
  {
   "cell_type": "markdown",
   "metadata": {},
   "source": [
    "### 3.Intrested"
   ]
  },
  {
   "cell_type": "markdown",
   "metadata": {},
   "source": [
    "All the business men who are intrested in steping into new business in the city of toronto will be intersted to know the best palce to start there business.\n",
    "\n",
    "\n",
    "And also people who are in search of new neighborhood for settelment will also be intrested in knowing the best place that provides the good and developed surroundings in that Borough."
   ]
  },
  {
   "cell_type": "markdown",
   "metadata": {},
   "source": [
    "## Data Section      "
   ]
  },
  {
   "cell_type": "markdown",
   "metadata": {},
   "source": [
    "###  1. Data Sources"
   ]
  },
  {
   "cell_type": "markdown",
   "metadata": {},
   "source": [
    "- Data of neighborhoods and respective postal codes are gathered by scraping the web page(wikipedia page )\n",
    "- Using the postal codes the latitude and longitude locations of that respective neighborhoods are gathered from a \".csv\" file provided in the internet.\n",
    " or Can also be obtained  using  geocoder packeg of python. \n",
    "- Data relating to the venues in a certain neighborhood according to the postal codes are gathered using the API of FOURSQUERE "
   ]
  },
  {
   "cell_type": "markdown",
   "metadata": {},
   "source": [
    "### 2. Data Cleanig"
   ]
  },
  {
   "cell_type": "markdown",
   "metadata": {},
   "source": [
    " 1. - the data obtained from the wikipedia page is taken as html text at first so it taken into a pandas data frame.\n",
    "    - Then the rows with 'Borough' as 'Not assigned' are droped.\n",
    "    - all the rows with  'Neiborhood' feature as 'Not assined' are replaced with it 'Borough' feature.\n",
    "    - grouped according to the postal codes.\n",
    "    \n",
    "    \n",
    " 2. - the \".csv\" file is converted to a data frame .\n",
    "    - latitude and longitude are filtered out according to the postal codes and are stored in 'latitude' ,'longitude' features of the previous data frame.\n",
    "   \n",
    " "
   ]
  },
  {
   "cell_type": "markdown",
   "metadata": {},
   "source": [
    "### 3. Features "
   ]
  },
  {
   "cell_type": "markdown",
   "metadata": {},
   "source": [
    " - **Postalcode**  - contains the postal codes of the boroughs in Toronto.\n",
    " \n",
    " \n",
    " - **Borough**     - stores the Borough name.\n",
    " \n",
    " \n",
    " - **Neighborhood** -contains comma seperated list of all the neighborhoods that come under the Postalcode and Borough\n",
    " \n",
    " \n",
    " - **Latitude**    - contains the latitude of that region obtained using the postalcode.\n",
    " \n",
    " \n",
    " - **Longitude**   - contains the longitude of that region obtained using the postalcode."
   ]
  },
  {
   "cell_type": "markdown",
   "metadata": {},
   "source": [
    "## Methodology section"
   ]
  },
  {
   "cell_type": "markdown",
   "metadata": {},
   "source": [
    "Once the customer has provided you with \n",
    "- the details of the business he wanted to start \n",
    "- and the region he wanted to start that business .\n",
    "  \n",
    "**1.** The venues near by that region are taken from API of Foursquere .After the venues are gathered the locations are plotted on the map of toranto and are clustered as per the need.Which then indicates the crowdyness of shops around it.\n",
    "For clustering the venues the K-Means clustering is used .\n",
    "\n",
    "\n",
    "#### K-Means clustering"
   ]
  },
  {
   "cell_type": "markdown",
   "metadata": {},
   "source": [
    "K-means clustering is a clustering algorithm that aims to partition n observations into k clusters.\n",
    "\n",
    "There are 3 steps:\n",
    "\n",
    "*Initialisation – K initial “means” (centroids) are generated at random.*\n",
    "\n",
    "*Assignment – K clusters are created by associating each observation with the nearest centroid.*\n",
    "\n",
    "*Update – The centroid of the clusters becomes the new mean*\n",
    "\n",
    "*Assignment and Update are repeated iteratively until convergence*\n",
    "\n",
    "The end result is that the sum of squared errors is minimised between points and their respective centroids."
   ]
  },
  {
   "cell_type": "markdown",
   "metadata": {},
   "source": [
    "   \n",
    "    _ Once the clustering is completed it gives the regions which are suitable for the businnes .As that regions will _\n",
    "    _ be populated due to high business region as there are many business around it ._\n"
   ]
  },
  {
   "cell_type": "markdown",
   "metadata": {},
   "source": [
    "**2.** Later the problem is If there is a similar business in that area our business won't be highly profitable so we need to select the region with high population as good as possible .And also should be in area where there are no similar business . \n",
    "so a new dataframe is created with the feilds as **'cluster' ,'count', 'btype_count'**"
   ]
  },
  {
   "cell_type": "markdown",
   "metadata": {},
   "source": [
    "  - **cluster**- the cluster id \n",
    "  - **count**  - total number of venues in that cluster\n",
    "  - **btype_count**- total number of venues of the client business type in that cluster ('Shopping mall ' in this case)"
   ]
  },
  {
   "cell_type": "markdown",
   "metadata": {},
   "source": [
    "In order to give maximum preference to the populated areas the dataframe is sorted according to the count in dec. order.\n",
    "And then the data frame is searched for a cluster which is having least no of similar business.\n",
    "and that cluster is recommended to the customer\n"
   ]
  },
  {
   "cell_type": "markdown",
   "metadata": {},
   "source": [
    "**3.** The newly created data frame is filtered for the minimum of 'btype_count'. It is the clusters with minimum number of shopping malls is selected.\n",
    "      "
   ]
  },
  {
   "cell_type": "markdown",
   "metadata": {},
   "source": [
    "**4.**   then again the cluster with maximum number of 'count' is filtered . So that the profits will increase due to the presence of famous venues near by."
   ]
  },
  {
   "cell_type": "markdown",
   "metadata": {},
   "source": [
    "##### This gives the best list of clusters(location of cluster centers) in a given area where the customer can start the business with minimum risk ."
   ]
  },
  {
   "cell_type": "markdown",
   "metadata": {},
   "source": [
    "## Results"
   ]
  },
  {
   "cell_type": "markdown",
   "metadata": {},
   "source": [
    "##### __*A list of best possible cluster centers (latitude ,longitude) are give back alng with the a visualization map by folium which also indicates the best locations for the business customer wanted to start in  that area .With minimum risk involved as there will be less posible compitition from other businesses of that area .Since it is taken care to provide the location with minimum copetants for that business.And also makeing sure that the area near by is populated or having popular venues.*__"
   ]
  },
  {
   "cell_type": "markdown",
   "metadata": {},
   "source": [
    "## Thank you"
   ]
  },
  {
   "cell_type": "markdown",
   "metadata": {},
   "source": [
    "----"
   ]
  },
  {
   "cell_type": "markdown",
   "metadata": {},
   "source": [
    "## References"
   ]
  },
  {
   "cell_type": "markdown",
   "metadata": {},
   "source": [
    " - FourSquare API\n",
    " - toranto wikipedia\n",
    " - google maps"
   ]
  }
 ],
 "metadata": {
  "kernelspec": {
   "display_name": "Python 3",
   "language": "python",
   "name": "python3"
  },
  "language_info": {
   "codemirror_mode": {
    "name": "ipython",
    "version": 3
   },
   "file_extension": ".py",
   "mimetype": "text/x-python",
   "name": "python",
   "nbconvert_exporter": "python",
   "pygments_lexer": "ipython3",
   "version": "3.6.8"
  }
 },
 "nbformat": 4,
 "nbformat_minor": 2
}

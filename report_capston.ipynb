{
 "cells": [
  {
   "cell_type": "markdown",
   "metadata": {},
   "source": [
    "##       Introduction/Business Problem "
   ]
  },
  {
   "cell_type": "markdown",
   "metadata": {},
   "source": [
    "### 1. Introduction"
   ]
  },
  {
   "cell_type": "markdown",
   "metadata": {},
   "source": [
    "       Toronto is the provincial capital of Ontario and the most populous city in Canada, with a population of 2,731,571 in \n",
    "    2016. Current to 2016, the Toronto census metropolitan area (CMA), of which the majority is within the Greater Toronto \n",
    "    Area (GTA), held a population of 5,928,040, making it Canada's most populous CMA. Toronto is the fastest growing city \n",
    "    in North America,[13] and is the anchor of an urban agglomeration, known as the Golden Horseshoe in Southern Ontario, \n",
    "    located on the northwestern shore of Lake Ontario. Toronto is an international centre of business, finance, arts, and \n",
    "    culture, and is recognized as one of the most multicultural and cosmopolitan cities in the world."
   ]
  },
  {
   "cell_type": "markdown",
   "metadata": {},
   "source": [
    "       As you can see from the figures, toronto is a city with a high population and population density. Being such a crowded city \n",
    "    leads the owners of shops and social sharing places in the city where the population is dense. When we think of it by the investor,\n",
    "    we expect from them to prefer the districts where there is a lower real estate cost and the type of business they want to install \n",
    "    is less intense"
   ]
  },
  {
   "cell_type": "markdown",
   "metadata": {},
   "source": [
    "### 2. Business Problem"
   ]
  },
  {
   "cell_type": "markdown",
   "metadata": {},
   "source": [
    "   In a region like this where the population is higher there is better chance for business .But one should be abel\n",
    "   to select the best place to start the business.Instead of selecting with an basic essumption it whould be nice to use      the data relating to the near by venues in particular neighborhood (needed by the coustmer) and providing him the best      areas to open his/her business."
   ]
  },
  {
   "cell_type": "markdown",
   "metadata": {},
   "source": [
    " SOLUTION:the neighborhood is selected as per the requirment of the customer and its near by venues are listed with in a range of 2 km and the venues are clustered which gives the denseness of venues of its kind and best place is provided according to analysis."
   ]
  },
  {
   "cell_type": "markdown",
   "metadata": {},
   "source": [
    "### 3.Intrested"
   ]
  },
  {
   "cell_type": "markdown",
   "metadata": {},
   "source": [
    "    All the business men who are intrested in steping into new business in the city of toronto will be intersted \n",
    "    to know the best palce to start there business.\n",
    "    And also people who are in search of new neighborhood for settelment will also be intrested in knowing the best \n",
    "    place that provides the good and developed surroundings in that Borough."
   ]
  },
  {
   "cell_type": "markdown",
   "metadata": {},
   "source": [
    "## Data Section      "
   ]
  },
  {
   "cell_type": "markdown",
   "metadata": {},
   "source": [
    "###  1. Data Sources"
   ]
  },
  {
   "cell_type": "markdown",
   "metadata": {},
   "source": [
    "- Data of neighborhoods and respective postal codes are gathered by scraping the web page(wikipedia page )\n",
    "- Using the postal codes the latitude and longitude locations of that respective neighborhoods are gathered from a \".csv\" file provided in the internet.\n",
    " or Can also be obtained  using  geocoder packeg of python. \n",
    "- Data relating to the venues in a certain neighborhood according to the postal codes are gathered using the API of FOURSQUERE "
   ]
  },
  {
   "cell_type": "markdown",
   "metadata": {},
   "source": [
    "### 2. Data Cleanig"
   ]
  },
  {
   "cell_type": "markdown",
   "metadata": {},
   "source": [
    " 1. - the data obtained from the wikipedia page is taken as html text at first so it taken into a pandas data frame.\n",
    "    - Then the rows with 'Borough' as 'Not assigned' are droped.\n",
    "    - all the rows with  'Neiborhood' feature as 'Not assined' are replaced with it 'Borough' feature.\n",
    "    - grouped according to the postal codes.\n",
    "    \n",
    "    \n",
    " 2. - the \".csv\" file is converted to a data frame .\n",
    "    - latitude and longitude are filtered out according to the postal codes and are stored in 'latitude' ,'longitude' features of the previous data frame.\n",
    "   \n",
    " "
   ]
  },
  {
   "cell_type": "code",
   "execution_count": null,
   "metadata": {},
   "outputs": [],
   "source": []
  }
 ],
 "metadata": {
  "kernelspec": {
   "display_name": "Python 3",
   "language": "python",
   "name": "python3"
  },
  "language_info": {
   "codemirror_mode": {
    "name": "ipython",
    "version": 3
   },
   "file_extension": ".py",
   "mimetype": "text/x-python",
   "name": "python",
   "nbconvert_exporter": "python",
   "pygments_lexer": "ipython3",
   "version": "3.6.8"
  }
 },
 "nbformat": 4,
 "nbformat_minor": 2
}
